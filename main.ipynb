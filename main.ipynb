{
 "cells": [
  {
   "cell_type": "code",
   "execution_count": null,
   "metadata": {
    "collapsed": true
   },
   "outputs": [],
   "source": [
    "import pandas as pd\n",
    "import numpy as np\n",
    "import matplotlib.pyplot as plt\n",
    "import seaborn as sns"
   ]
  },
  {
   "cell_type": "markdown",
   "source": [
    "## Load data"
   ],
   "metadata": {
    "collapsed": false
   }
  },
  {
   "cell_type": "code",
   "execution_count": null,
   "outputs": [],
   "source": [
    "df_offer = pd.read_csv(\"data/portfolio.csv\")\n",
    "df_offer.head()"
   ],
   "metadata": {
    "collapsed": false
   }
  },
  {
   "cell_type": "code",
   "execution_count": null,
   "outputs": [],
   "source": [
    "df_customer = pd.read_csv(\"data/profile.csv\")\n",
    "df_customer.head()"
   ],
   "metadata": {
    "collapsed": false
   }
  },
  {
   "cell_type": "code",
   "execution_count": null,
   "outputs": [],
   "source": [
    "df_transcript = pd.read_csv(\"data/transcript.csv\")\n",
    "df_transcript.head()"
   ],
   "metadata": {
    "collapsed": false
   }
  },
  {
   "cell_type": "markdown",
   "source": [
    "## Profile data"
   ],
   "metadata": {
    "collapsed": false
   }
  },
  {
   "cell_type": "code",
   "execution_count": null,
   "outputs": [],
   "source": [
    "df_offer.columns"
   ],
   "metadata": {
    "collapsed": false
   }
  },
  {
   "cell_type": "code",
   "execution_count": null,
   "outputs": [],
   "source": [
    "df_customer.columns"
   ],
   "metadata": {
    "collapsed": false
   }
  },
  {
   "cell_type": "code",
   "execution_count": null,
   "outputs": [],
   "source": [
    "df_transcript.columns"
   ],
   "metadata": {
    "collapsed": false
   }
  },
  {
   "cell_type": "markdown",
   "source": [
    "## Clean data"
   ],
   "metadata": {
    "collapsed": false
   }
  },
  {
   "cell_type": "markdown",
   "source": [
    "### Drop unnamed column"
   ],
   "metadata": {
    "collapsed": false
   }
  },
  {
   "cell_type": "code",
   "execution_count": null,
   "outputs": [],
   "source": [
    "df_offer = df_offer.drop('Unnamed: 0', axis = 1)\n",
    "df_customer = df_customer.drop('Unnamed: 0', axis = 1)\n",
    "df_transcript = df_transcript.drop('Unnamed: 0', axis = 1)"
   ],
   "metadata": {
    "collapsed": false
   }
  },
  {
   "cell_type": "markdown",
   "source": [
    "### Check missing value"
   ],
   "metadata": {
    "collapsed": false
   }
  },
  {
   "cell_type": "code",
   "execution_count": null,
   "outputs": [],
   "source": [
    "df_offer.isna().sum()"
   ],
   "metadata": {
    "collapsed": false
   }
  },
  {
   "cell_type": "code",
   "execution_count": null,
   "outputs": [],
   "source": [
    "df_customer.isna().sum()"
   ],
   "metadata": {
    "collapsed": false
   }
  },
  {
   "cell_type": "code",
   "execution_count": null,
   "outputs": [],
   "source": [
    "df_transcript.isna().sum()"
   ],
   "metadata": {
    "collapsed": false
   }
  },
  {
   "cell_type": "code",
   "execution_count": null,
   "outputs": [],
   "source": [
    "missing_gender = df_customer[df_customer['gender'].isna()]\n",
    "missing_income = df_customer[df_customer['income'].isna()]\n",
    "\n",
    "np.sum(missing_gender['id'] == missing_income['id'])"
   ],
   "metadata": {
    "collapsed": false
   }
  },
  {
   "cell_type": "markdown",
   "source": [
    "### Remove rows with missing values in df_customer"
   ],
   "metadata": {
    "collapsed": false
   }
  },
  {
   "cell_type": "code",
   "execution_count": null,
   "outputs": [],
   "source": [
    "id_to_remove = missing_income['id']\n",
    "df_customer_no_na = df_customer[~df_customer['id'].isin(id_to_remove)]\n",
    "df_customer_no_na = df_customer_no_na.reset_index(drop = True)\n",
    "df_customer_no_na.isna().sum()"
   ],
   "metadata": {
    "collapsed": false
   }
  },
  {
   "cell_type": "markdown",
   "source": [
    "### Check data types"
   ],
   "metadata": {
    "collapsed": false
   }
  },
  {
   "cell_type": "code",
   "execution_count": null,
   "outputs": [],
   "source": [
    "df_customer_no_na['became_member_on'] = pd.to_datetime(df_customer_no_na['became_member_on'].astype(str), format = '%Y%m%d')\n",
    "df_customer_no_na['became_member_on'].head()"
   ],
   "metadata": {
    "collapsed": false
   }
  },
  {
   "cell_type": "code",
   "execution_count": null,
   "outputs": [],
   "source": [
    "df_transcript.rename(columns = {'time' : 'hours_since_start'}, inplace = True)\n",
    "df_transcript.head(1)"
   ],
   "metadata": {
    "collapsed": false
   }
  },
  {
   "cell_type": "markdown",
   "source": [
    "## Data Transformation"
   ],
   "metadata": {
    "collapsed": false
   }
  },
  {
   "cell_type": "code",
   "execution_count": null,
   "outputs": [],
   "source": [
    "# Elements in value_columns are strings. Convert them to dictionaries\n",
    "value_column = df_transcript['value']\n",
    "value_column = value_column.apply(eval)\n",
    "value_column[:3]"
   ],
   "metadata": {
    "collapsed": false
   }
  },
  {
   "cell_type": "code",
   "execution_count": null,
   "outputs": [],
   "source": [
    "# Extract the keys\n",
    "dictionary_key_column = [list(d.keys())[0] for d in value_column]\n",
    "# Extract the values\n",
    "dictionary_value_column = [list(d.values())[0] for d in value_column]\n",
    "# Create a df containing the keys and values of the dictionary elements of `value_column`\n",
    "value_column_split = pd.DataFrame(columns = ['dict_key', 'dict_value'])\n",
    "value_column_split['dict_key'] = dictionary_key_column\n",
    "value_column_split['dict_value'] = dictionary_value_column\n",
    "value_column_split.head(3)"
   ],
   "metadata": {
    "collapsed": false
   }
  },
  {
   "cell_type": "code",
   "execution_count": null,
   "outputs": [],
   "source": [
    "# Replace `value` column with df `value_column_split`\n",
    "df_transcript_value_mod = df_transcript.drop('value', axis = 1)\n",
    "df_transcript_value_mod = pd.concat([df_transcript_value_mod, value_column_split], axis = 1)"
   ],
   "metadata": {
    "collapsed": false
   }
  },
  {
   "cell_type": "code",
   "execution_count": null,
   "outputs": [],
   "source": [
    "df_transcript_value_mod.columns"
   ],
   "metadata": {
    "collapsed": false
   }
  },
  {
   "cell_type": "markdown",
   "source": [
    "### Save checkpoints after data cleaning"
   ],
   "metadata": {
    "collapsed": false
   }
  },
  {
   "cell_type": "code",
   "execution_count": null,
   "outputs": [],
   "source": [
    "offers = df_offer.copy()\n",
    "customers = df_customer_no_na.copy()\n",
    "transcripts = df_transcript_value_mod.copy()"
   ],
   "metadata": {
    "collapsed": false
   }
  },
  {
   "cell_type": "markdown",
   "source": [
    "## Exploratory Data Analysis (EDA)"
   ],
   "metadata": {
    "collapsed": false
   }
  },
  {
   "cell_type": "markdown",
   "source": [
    "### Univariate Analysis - gender"
   ],
   "metadata": {
    "collapsed": false
   }
  },
  {
   "cell_type": "code",
   "execution_count": null,
   "outputs": [],
   "source": [
    "count = customers['gender'].value_counts()\n",
    "label = ['Male', 'Female', 'Other']\n",
    "plt.figure(figsize=(4,3))\n",
    "plt.pie(x = count, labels = label, autopct = '%1.1f%%')\n",
    "plt.title('Gender', fontsize = 12)\n",
    "plt.show()"
   ],
   "metadata": {
    "collapsed": false
   }
  },
  {
   "cell_type": "markdown",
   "source": [
    "### Univariate Analysis - age"
   ],
   "metadata": {
    "collapsed": false
   }
  },
  {
   "cell_type": "code",
   "execution_count": null,
   "outputs": [],
   "source": [
    "fig, axs = plt.subplots(1,2, figsize = (12,4))\n",
    "sns.boxplot(data = customers, x = 'age', ax = axs[0])\n",
    "sns.histplot(data = customers, x = 'age', ax = axs[1])\n",
    "axs[0].xaxis.label.set_size(15)\n",
    "axs[1].xaxis.label.set_size(15)\n",
    "axs[1].yaxis.label.set_size(15)\n",
    "\n",
    "print(customers['age'].describe())"
   ],
   "metadata": {
    "collapsed": false
   }
  },
  {
   "cell_type": "code",
   "execution_count": null,
   "outputs": [],
   "source": [
    "# Create a new column `age_group`\n",
    "age_group = pd.cut(customers[\"age\"], bins = [customers[\"age\"].min(), 26, 36, 46, 56, 66, 76, 86, customers[\"age\"].max()], labels=['18-25ys', '26-35ys', '36-45ys', '46-55ys', '56-65ys', '66-75ys', '76-85ys', '> 86ys'])\n",
    "customers[\"age_group\"] = age_group\n",
    "\n",
    "# Visualize customers by age groups\n",
    "age_group_percentage = (customers['age_group'].value_counts().sort_index() / customers.shape[0] * 100).round(1)\n",
    "\n",
    "plt.xlabel(\"Age\")\n",
    "plt.ylabel(\"Percentage %\")\n",
    "plt.title(\"Age Distribution\")\n",
    "bar_plot = plt.bar(x = age_group_percentage.index.values, height = age_group_percentage)\n",
    "for i,bar in enumerate(bar_plot.patches):\n",
    "    x, y = bar.get_xy()\n",
    "    plt.text(x+bar.get_width()/2, y+bar.get_height()+0.2,\n",
    "            str(age_group_percentage.iloc[i]) + '%',\n",
    "            ha = 'center', weight = 'bold')\n",
    "\n",
    "plt.tight_layout()\n",
    "plt.show()"
   ],
   "metadata": {
    "collapsed": false
   }
  },
  {
   "cell_type": "markdown",
   "source": [
    "### Univariate Analysis - income"
   ],
   "metadata": {
    "collapsed": false
   }
  },
  {
   "cell_type": "code",
   "execution_count": null,
   "outputs": [],
   "source": [
    "fig, axs = plt.subplots(1,2, figsize = (12,4))\n",
    "sns.boxplot(data = customers, x = 'income', ax = axs[0])\n",
    "sns.histplot(data = customers, x = 'income', ax = axs[1])\n",
    "axs[0].xaxis.label.set_size(15)\n",
    "axs[1].xaxis.label.set_size(15)\n",
    "axs[1].yaxis.label.set_size(15)\n",
    "\n",
    "print(customers['income'].describe())"
   ],
   "metadata": {
    "collapsed": false
   }
  },
  {
   "cell_type": "code",
   "execution_count": null,
   "outputs": [],
   "source": [
    "# Create a new column `income_group`\n",
    "income_group = pd.cut(customers['income'],\n",
    "      bins = [customers['income'].min(), 45000, 60000, 75000, 90000, 105000, customers['income'].max()],\n",
    "      labels = ['30-45k', '45-60k', '60-75k', '75-90k', '90-105k', '> 105k'])\n",
    "customers['income_group'] = income_group\n",
    "\n",
    "# Visualize customers by income groups\n",
    "income_group_percentage = (customers['income_group'].value_counts().sort_index() / customers.shape[0] * 100).round(1)\n",
    "\n",
    "plt.xlabel('Income USD')\n",
    "plt.ylabel('Percentage %')\n",
    "plt.title('Income Distribution')\n",
    "\n",
    "\n",
    "bar_plot = plt.bar(x = income_group_percentage.index.values, height = income_group_percentage)\n",
    "for i,bar in enumerate(bar_plot.patches):\n",
    "    x, y = bar.get_xy()\n",
    "    plt.text(x+bar.get_width()/2, y+bar.get_height()+0.2,\n",
    "            str(income_group_percentage.iloc[i]) + '%',\n",
    "            ha = 'center', weight = 'bold')\n",
    "\n",
    "plt.tight_layout()\n",
    "plt.show()"
   ],
   "metadata": {
    "collapsed": false
   }
  },
  {
   "cell_type": "markdown",
   "source": [
    "### Univariate Analysis - became_member_on"
   ],
   "metadata": {
    "collapsed": false
   }
  },
  {
   "cell_type": "code",
   "execution_count": null,
   "outputs": [],
   "source": [
    "df_member = customers[['id', 'became_member_on']]\n",
    "df_member = df_member.assign(year = df_member.became_member_on.dt.year,\n",
    "                             month = df_member.became_member_on.dt.month,\n",
    "                             day = df_member.became_member_on.dt.day,\n",
    "                             month_name = df_member.became_member_on.dt.month_name(),\n",
    "                             day_of_week = df_member.became_member_on.dt.weekday,\n",
    "                             day_name = df_member.became_member_on.dt.day_name())\n",
    "df_member.head(3)"
   ],
   "metadata": {
    "collapsed": false
   }
  },
  {
   "cell_type": "code",
   "execution_count": null,
   "outputs": [],
   "source": [
    "sns.countplot(data=df_member, x=\"year\")\n",
    "plt.title('Number of New Members by Year')\n",
    "plt.xlabel('Year')\n",
    "plt.ylabel('Count')\n",
    "plt.show()"
   ],
   "metadata": {
    "collapsed": false
   }
  },
  {
   "cell_type": "code",
   "execution_count": null,
   "outputs": [],
   "source": [
    "sns.countplot(data=df_member.sort_values(\"month\"), y=\"month_name\")\n",
    "plt.title('Number of New Members by Month')\n",
    "plt.xlabel('Year')\n",
    "plt.ylabel('Month')\n",
    "plt.show()"
   ],
   "metadata": {
    "collapsed": false
   }
  },
  {
   "cell_type": "code",
   "execution_count": null,
   "outputs": [],
   "source": [
    "sns.countplot(data=df_member.sort_values(\"day_of_week\"), y=\"day_name\")\n",
    "plt.title('Number of New Members by Weekday')\n",
    "plt.xlabel('Year')\n",
    "plt.ylabel('Day')\n",
    "plt.show()"
   ],
   "metadata": {
    "collapsed": false
   }
  },
  {
   "cell_type": "markdown",
   "source": [
    "### Bivariate Analysis - age vs gender"
   ],
   "metadata": {
    "collapsed": false
   }
  },
  {
   "cell_type": "code",
   "execution_count": null,
   "outputs": [],
   "source": [
    "print(customers.groupby(\"gender\").agg({\"age\": \"mean\"}))\n",
    "sns.kdeplot(data=customers, x=\"age\", hue=\"gender\", fill=True)\n",
    "plt.title(\"Age vs Gender\")\n",
    "plt.show()"
   ],
   "metadata": {
    "collapsed": false
   }
  },
  {
   "cell_type": "markdown",
   "source": [
    "### Bivariate Analysis - income vs gender"
   ],
   "metadata": {
    "collapsed": false
   }
  },
  {
   "cell_type": "code",
   "execution_count": null,
   "outputs": [],
   "source": [
    "print(customers.groupby(\"gender\").agg({\"income\": \"mean\"}))\n",
    "sns.kdeplot(data=customers, x=\"income\", hue=\"gender\", fill=True)\n",
    "plt.title(\"Income vs Gender\")\n",
    "plt.show()"
   ],
   "metadata": {
    "collapsed": false
   }
  },
  {
   "cell_type": "markdown",
   "source": [
    "### Bivariate Analysis - income vs age"
   ],
   "metadata": {
    "collapsed": false
   }
  },
  {
   "cell_type": "code",
   "execution_count": null,
   "outputs": [],
   "source": [
    "sns.barplot(data=customers, x=\"age_group\", y=\"income\")\n",
    "plt.title(\"Income vs Age\")\n",
    "plt.show()"
   ],
   "metadata": {
    "collapsed": false
   }
  }
 ],
 "metadata": {
  "kernelspec": {
   "display_name": "Python 3",
   "language": "python",
   "name": "python3"
  },
  "language_info": {
   "codemirror_mode": {
    "name": "ipython",
    "version": 2
   },
   "file_extension": ".py",
   "mimetype": "text/x-python",
   "name": "python",
   "nbconvert_exporter": "python",
   "pygments_lexer": "ipython2",
   "version": "2.7.6"
  }
 },
 "nbformat": 4,
 "nbformat_minor": 0
}
